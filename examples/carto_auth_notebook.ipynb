{
 "cells": [
  {
   "cell_type": "markdown",
   "id": "07b2a8ec",
   "metadata": {},
   "source": [
    "# carto-auth\n",
    "\n",
    "Python library to authenticate with [CARTO](carto.com)."
   ]
  },
  {
   "cell_type": "code",
   "execution_count": null,
   "id": "30353b70",
   "metadata": {},
   "outputs": [],
   "source": [
    "from carto_auth import CartoAuth"
   ]
  },
  {
   "cell_type": "markdown",
   "id": "fb47d354",
   "metadata": {},
   "source": [
    "### Authenticate from OAuth\n",
    "\n",
    "Using OAuth 2.0 authentication. Available for any CARTO user."
   ]
  },
  {
   "cell_type": "code",
   "execution_count": null,
   "id": "dd04a2c5",
   "metadata": {},
   "outputs": [],
   "source": [
    "carto_auth = CartoAuth.from_oauth()"
   ]
  },
  {
   "cell_type": "markdown",
   "id": "c11f5779",
   "metadata": {},
   "source": [
    "### Authenticate from file\n",
    "\n",
    "Using a M2M application. Available for CARTO Enterprise users.\n",
    "```json\n",
    "{\n",
    "  \"api_base_url\": \"https://gcp-us-east1.api.carto.com\",\n",
    "  \"client_id\": \"XXXXXXXXXXXXXXXXXXXXXXXXXXXXXXXX\",\n",
    "  \"client_secret\": \"XXXXXXXXXXXXXXXXXXXXXXXXXXXXXXXXXXXXXXXXXXXXXXXXXXXXXXXXXXXXXXXX\"\n",
    "}\n",
    "```"
   ]
  },
  {
   "cell_type": "code",
   "execution_count": null,
   "id": "f4a7e937",
   "metadata": {},
   "outputs": [],
   "source": [
    "carto_auth = CartoAuth.from_file(\"./carto_credentials.json\")"
   ]
  },
  {
   "cell_type": "markdown",
   "id": "054c77d6",
   "metadata": {},
   "source": [
    "### Get the access token"
   ]
  },
  {
   "cell_type": "code",
   "execution_count": null,
   "id": "b111ff13",
   "metadata": {},
   "outputs": [],
   "source": [
    "access_token = carto_auth.get_access_token()"
   ]
  },
  {
   "cell_type": "markdown",
   "id": "72161f24",
   "metadata": {},
   "source": [
    "### CARTO Data Warehouse\n",
    "\n",
    "Any CARTO user has by default a CARTO Data Warehouse (CARTO DW).\n",
    "\n",
    "This library allows to obtain your CARTO DW credentials."
   ]
  },
  {
   "cell_type": "code",
   "execution_count": null,
   "id": "89ad2747",
   "metadata": {},
   "outputs": [],
   "source": [
    "carto_dw_project, carto_dw_token = carto_auth.get_carto_dw_credentials()"
   ]
  },
  {
   "cell_type": "markdown",
   "id": "a7e937b5",
   "metadata": {},
   "source": [
    "Also the [client](https://googleapis.dev/python/bigquery/latest/index.html) for the CARTO DW, if the \"carto-dw\" extra requirements are installed:\n",
    "\n",
    "```\n",
    "pip install carto-auth[carto-dw]\n",
    "```"
   ]
  },
  {
   "cell_type": "code",
   "execution_count": null,
   "id": "2d96490d",
   "metadata": {},
   "outputs": [],
   "source": [
    "carto_dw_client = carto_auth.get_carto_dw_client()"
   ]
  }
 ],
 "metadata": {
  "kernelspec": {
   "display_name": "Python 3 (ipykernel)",
   "language": "python",
   "name": "python3"
  },
  "language_info": {
   "codemirror_mode": {
    "name": "ipython",
    "version": 3
   },
   "file_extension": ".py",
   "mimetype": "text/x-python",
   "name": "python",
   "nbconvert_exporter": "python",
   "pygments_lexer": "ipython3",
   "version": "3.8.10"
  },
  "vscode": {
   "interpreter": {
    "hash": "e7370f93d1d0cde622a1f8e1c04877d8463912d04d973331ad4851f04de6915a"
   }
  }
 },
 "nbformat": 4,
 "nbformat_minor": 5
}
